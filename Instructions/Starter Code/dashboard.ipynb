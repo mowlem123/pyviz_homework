{
 "cells": [
  {
   "cell_type": "markdown",
   "metadata": {},
   "source": [
    "# San Francisco Rental Prices Dashboard\n",
    "\n",
    "In this notebook, you will compile the visualizations from the previous analysis into functions that can be used for a Panel dashboard."
   ]
  },
  {
   "cell_type": "code",
   "execution_count": null,
   "metadata": {},
   "outputs": [],
   "source": [
    "# imports\n",
    "import panel as pn\n",
    "pn.extension('plotly')\n",
    "import plotly.express as px\n",
    "import pandas as pd\n",
    "import hvplot.pandas\n",
    "import matplotlib.pyplot as plt\n",
    "import os\n",
    "from pathlib import Path\n",
    "from dotenv import load_dotenv"
   ]
  },
  {
   "cell_type": "code",
   "execution_count": null,
   "metadata": {},
   "outputs": [],
   "source": [
    "# Read the Mapbox API key\n",
    "load_dotenv()\n",
    "map_box_api = os.getenv(\"MAPBOX_API_KEY\")\n",
    "px.set_mapbox_access_token(map_box_api)"
   ]
  },
  {
   "cell_type": "markdown",
   "metadata": {},
   "source": [
    "# Import Data"
   ]
  },
  {
   "cell_type": "code",
   "execution_count": null,
   "metadata": {},
   "outputs": [],
   "source": [
    "# Import the necessary CSVs to Pandas DataFrames\n",
    "# YOUR CODE HERE!\n",
    "file_path1 = Path(\"Data/sfo_neighborhoods_census_data.csv\")\n",
    "sfo_data = pd.read_csv(file_path1, index_col=\"year\")\n",
    "sfo_data.head()"
   ]
  },
  {
   "cell_type": "code",
   "execution_count": null,
   "metadata": {},
   "outputs": [],
   "source": [
    "file_path2 = Path(\"Data/neighborhoods_coordinates.csv\")\n",
    "loc_coord = pd.read_csv(file_path2, index_col=\"Neighborhood\")\n",
    "loc_coord.head()"
   ]
  },
  {
   "cell_type": "code",
   "execution_count": null,
   "metadata": {},
   "outputs": [],
   "source": [
    "file_path3 = Path(\"sfo_data_mean.csv\")\n",
    "sfo_data_mean_df = pd.read_csv(file_path3, index_col=\"year\")\n",
    "sfo_data_mean_df.head()"
   ]
  },
  {
   "cell_type": "markdown",
   "metadata": {},
   "source": [
    "- - -"
   ]
  },
  {
   "cell_type": "markdown",
   "metadata": {},
   "source": [
    "## Panel Visualizations\n",
    "\n",
    "In this section, you will copy the code for each plot type from your analysis notebook and place it into separate functions that Panel can use to create panes for the dashboard. \n",
    "\n",
    "These functions will convert the plot object to a Panel pane.\n",
    "\n",
    "Be sure to include any DataFrame transformation/manipulation code required along with the plotting code.\n",
    "\n",
    "Return a Panel pane object from each function that can be used to build the dashboard.\n",
    "\n",
    "Note: Remove any `.show()` lines from the code. We want to return the plots instead of showing them. The Panel dashboard will then display the plots."
   ]
  },
  {
   "cell_type": "code",
   "execution_count": null,
   "metadata": {},
   "outputs": [],
   "source": [
    "# Define Panel Visualization Functions\n",
    "def housing_units_per_year():\n",
    "    \"\"\"Housing Units Per Year.\"\"\"\n",
    "    # YOUR CODE HERE!\n",
    "    sfo_data_mean = sfo_data['housing_units'].groupby(sfo_data.index).mean()\n",
    "    housing_units_per_year = px.plot(\n",
    "        sfo_data_mean,\n",
    "        xlabel='Years',\n",
    "        ylabel= 'Housing Units',\n",
    "        y= 'housing units',\n",
    "        x= 'years',\n",
    "        kind = 'bar',\n",
    "        rot= 45,\n",
    "        ylim= (370000, 385000),\n",
    "        title= \"Average Housing Units Per Year\",\n",
    "        figsize= (10,5)\n",
    "    )\n",
    "    return pn.pane.plotly(housing_units_per_year)\n",
    "    "
   ]
  },
  {
   "cell_type": "code",
   "execution_count": null,
   "metadata": {},
   "outputs": [],
   "source": [
    "def average_gross_rent():\n",
    "    \"\"\"Average Gross Rent in San Francisco Per Year.\"\"\"\n",
    "    \n",
    "    # YOUR CODE HERE!\n",
    "    avg_gross_rent1 = sfo_data['gross_rent'].groupby('year').mean().astype(int)\n",
    "    avg_gross_rent = px.plot(\n",
    "        avg_gross_rent,\n",
    "        ylabel= 'Gross Rent',\n",
    "        xlabel= 'Year',\n",
    "        fontsize= 12,\n",
    "        color= 'Blue',\n",
    "        title= 'Average Gross Rent In San Francisco Per Year'\n",
    "    )\n",
    "    return avg_gross_rent"
   ]
  },
  {
   "cell_type": "code",
   "execution_count": null,
   "metadata": {},
   "outputs": [],
   "source": [
    "def average_sales_price():\n",
    "    \"\"\"Average Sales Price Per Year.\"\"\"\n",
    "    \n",
    "    # YOUR CODE HERE!\n",
    "    avg_sale_price_sqr_foot = sfo_data[\"sale_price_sqr_foot\"].groupby('year').mean().astype(int)\n",
    "    avg_sale_price = px.plot(\n",
    "        avg_sale_price_sqr_foot,\n",
    "        ylabel = 'Sale Price per Sqr Foot',\n",
    "        xlabel= 'Year',\n",
    "        fontsize= 12,\n",
    "        color = 'Green',\n",
    "        title= 'Average Sales Price Per Year'\n",
    "    )\n",
    "    return avg_sale_price"
   ]
  },
  {
   "cell_type": "code",
   "execution_count": null,
   "metadata": {},
   "outputs": [],
   "source": [
    "def average_price_by_neighborhood():\n",
    "    \"\"\"Average Prices by Neighborhood.\"\"\"\n",
    "    \n",
    "    # YOUR CODE HERE!\n",
    "    neigh_rent = sfo_data.groupby(['year', 'neighborhood']).mean()\n",
    "    avg_price_plot = px.line(\n",
    "        neigh_rent,\n",
    "        x = \"sale_price_sqr_foot\",\n",
    "        y = \"housing_units\",\n",
    "        title =\"Price per Square Foot, San Fransisco\",\n",
    ")\n",
    "    return neigh_rent"
   ]
  },
  {
   "cell_type": "code",
   "execution_count": null,
   "metadata": {},
   "outputs": [],
   "source": [
    "def top_most_expensive_neighborhoods():\n",
    "    \"\"\"Top 10 Most Expensive Neighborhoods.\"\"\"\n",
    "\n",
    "    # YOUR CODE HERE!\n",
    "    top_ten_exp = sfo_data.groupby('neighborhood').mean()[['sale_price_sqr_foot', 'housing_units', 'gross_rent']].sort_values('sale_price_sqr_foot', ascending = False).reset_index().head(10)\n",
    "    top_ten_exp_hvplot = top_ten_exp.hvplot(\n",
    "        x = 'neighborhood',\n",
    "        y = 'sale_price_sqr_foot',\n",
    "        xlabel = 'Neighborhood',\n",
    "        ylabel = 'Average Sale Price Per Square Foot',\n",
    "        color = 'gross_rent',\n",
    "        kind = 'bar',\n",
    "        rot = 45,\n",
    "        ylim = (400, 950),\n",
    "        height= 400, \n",
    "        title= \"Top Ten Most Expensive Neighborhoods\"\n",
    ") \n",
    "    return top_ten_exp_hvplot"
   ]
  },
  {
   "cell_type": "code",
   "execution_count": null,
   "metadata": {},
   "outputs": [],
   "source": [
    "def most_expensive_neighborhoods_rent_sales():\n",
    "    \"\"\"Comparison of Rent and Sales Prices of Most Expensive Neighborhoods.\"\"\"   \n",
    "    neigh_avg = sfo_data.groupby(['neighborhood']).mean()\n",
    "\n",
    "    # YOUR CODE HERE!\n",
    "\n",
    "    \n",
    "    \n",
    "def parallel_coordinates():\n",
    "    \"\"\"Parallel Coordinates Plot.\"\"\"\n",
    "\n",
    "    # YOUR CODE HERE!\n",
    "\n",
    "\n",
    "\n",
    "def parallel_categories():\n",
    "    \"\"\"Parallel Categories Plot.\"\"\"\n",
    "    \n",
    "    # YOUR CODE HERE!"
   ]
  },
  {
   "cell_type": "code",
   "execution_count": null,
   "metadata": {},
   "outputs": [],
   "source": [
    "def neighborhood_map():\n",
    "    \"\"\"Neighborhood Map.\"\"\"\n",
    "\n",
    "    # YOUR CODE HERE!\n",
    "    map_plot = px.scatter_mapbox(\n",
    "        joined_df,\n",
    "        color = 'gross_rent',\n",
    "        lat = 'Lat',\n",
    "        lon = 'Lon',\n",
    "        size = 'gross_rent',\n",
    "        hover_data = ['sale_price_sqr_foot'],\n",
    "        hover_name = 'neighborhood',\n",
    "        zoom = 4,\n",
    "        title = 'Gross Rent and Avg Sale Price Per sq Foot in SF',\n",
    ")\n",
    "    return map_plot"
   ]
  },
  {
   "cell_type": "code",
   "execution_count": null,
   "metadata": {},
   "outputs": [],
   "source": [
    "def sunburst():\n",
    "    \"\"\"Sunburst Plot.\"\"\"\n",
    "    \n",
    "    # YOUR CODE HERE!"
   ]
  },
  {
   "cell_type": "markdown",
   "metadata": {},
   "source": [
    "## Panel Dashboard\n",
    "\n",
    "In this section, you will combine all of the plots into a single dashboard view using Panel. Be creative with your dashboard design!"
   ]
  },
  {
   "cell_type": "code",
   "execution_count": null,
   "metadata": {},
   "outputs": [],
   "source": [
    "# Create a Title for the Dashboard\n",
    "# YOUR CODE HERE!\n",
    "housing_units_column = pn.Column(\n",
    "    \"\"\"Housing Units Per Year.\"\"\",\n",
    "    housing_units_per_year\n",
    ")\n",
    "\n",
    "avg_column = pn.Column(\n",
    "    \"\"\"Average Cost Analysis for San Fransisco\"\"\"\n",
    "    avg_gross_rent,\n",
    "    avg_sale_price,\n",
    "    neigh_rent\n",
    ")\n",
    "\n",
    "most_expensive_column = pn.Column(\n",
    "    \"\"\"Top 10 Most Expensive Neighborhoods.\"\"\",\n",
    "    top_ten_exp_hvplot\n",
    ")\n",
    "\n",
    "scatter_column = pn.Column(\n",
    "    \"\"\"Neighborhood Map.\"\"\",\n",
    "    map_plot\n",
    "\n",
    ")\n",
    "# Create a tab layout for the dashboard\n",
    "# YOUR CODE HERE!\n",
    "rental_analysis_dashboard = pn.Tabs(\n",
    "    (\"Housing\", housing_units_column), (\"Averages\", avg_column), (\"Expensive\", most_expensive_column), (\"Scatter\", map_plot)\n",
    ")\n",
    "\n",
    "# Create the dashboard\n",
    "# YOUR CODE HERE!"
   ]
  },
  {
   "cell_type": "markdown",
   "metadata": {},
   "source": [
    "## Serve the Panel Dashboard"
   ]
  },
  {
   "cell_type": "code",
   "execution_count": null,
   "metadata": {},
   "outputs": [],
   "source": [
    "# Serve the# dashboard\n",
    "# YOUR CODE HERE!\n",
    "rental_analysis_dashboard.servable()"
   ]
  },
  {
   "cell_type": "markdown",
   "metadata": {},
   "source": [
    "# Debugging\n",
    "\n",
    "Note: Some of the Plotly express plots may not render in the notebook through the panel functions.\n",
    "\n",
    "However, you can test each plot by uncommenting the following code"
   ]
  },
  {
   "cell_type": "code",
   "execution_count": null,
   "metadata": {},
   "outputs": [],
   "source": [
    "# housing_units_per_year()"
   ]
  },
  {
   "cell_type": "code",
   "execution_count": null,
   "metadata": {},
   "outputs": [],
   "source": [
    "# average_gross_rent()"
   ]
  },
  {
   "cell_type": "code",
   "execution_count": null,
   "metadata": {},
   "outputs": [],
   "source": [
    "# average_sales_price()"
   ]
  },
  {
   "cell_type": "code",
   "execution_count": null,
   "metadata": {},
   "outputs": [],
   "source": [
    "# average_price_by_neighborhood()"
   ]
  },
  {
   "cell_type": "code",
   "execution_count": null,
   "metadata": {},
   "outputs": [],
   "source": [
    "# top_most_expensive_neighborhoods()"
   ]
  },
  {
   "cell_type": "code",
   "execution_count": null,
   "metadata": {},
   "outputs": [],
   "source": [
    "# most_expensive_neighborhoods_rent_sales()"
   ]
  },
  {
   "cell_type": "code",
   "execution_count": null,
   "metadata": {},
   "outputs": [],
   "source": [
    "# neighborhood_map().show()"
   ]
  },
  {
   "cell_type": "code",
   "execution_count": null,
   "metadata": {},
   "outputs": [],
   "source": [
    "# parallel_categories()"
   ]
  },
  {
   "cell_type": "code",
   "execution_count": null,
   "metadata": {},
   "outputs": [],
   "source": [
    "# parallel_coordinates()"
   ]
  },
  {
   "cell_type": "code",
   "execution_count": null,
   "metadata": {},
   "outputs": [],
   "source": [
    "# sunburst()"
   ]
  },
  {
   "cell_type": "code",
   "execution_count": null,
   "metadata": {},
   "outputs": [],
   "source": []
  }
 ],
 "metadata": {
  "file_extension": ".py",
  "kernelspec": {
   "display_name": "Python [conda env:pyvizenv] *",
   "language": "python",
   "name": "conda-env-pyvizenv-py"
  },
  "language_info": {
   "codemirror_mode": {
    "name": "ipython",
    "version": 3
   },
   "file_extension": ".py",
   "mimetype": "text/x-python",
   "name": "python",
   "nbconvert_exporter": "python",
   "pygments_lexer": "ipython3",
   "version": "3.7.11"
  },
  "mimetype": "text/x-python",
  "name": "python",
  "npconvert_exporter": "python",
  "pygments_lexer": "ipython3",
  "version": 3
 },
 "nbformat": 4,
 "nbformat_minor": 4
}
